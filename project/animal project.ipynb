{
 "metadata": {
  "name": ""
 },
 "nbformat": 3,
 "nbformat_minor": 0,
 "worksheets": [
  {
   "cells": [
    {
     "cell_type": "code",
     "collapsed": false,
     "input": [
      "import csv\n",
      "a = open(\"animal.csv\")\n",
      "b = csv.reader(a)\n",
      "rownum = 0\n",
      "\n",
      "for row in b:\n",
      "    print row\n",
      "    rownum+=1\n",
      "\n",
      "a.close()"
     ],
     "language": "python",
     "metadata": {},
     "outputs": [
      {
       "output_type": "stream",
       "stream": "stdout",
       "text": [
        "['name', 'body.weight', 'brain.weight']\n",
        "['Lesser Short-tailed Shrew', '5', '.14']\n",
        "['Little Brown Bat', '10', '.25']\n",
        "['Mouse', '23', '.3']\n",
        "['Big Brown Bat', '23', '.4']\n",
        "['Musk Shrew', '48', '.33']\n",
        "['Star Nosed Mole', '60', '1']\n",
        "['Eastern American Mole', '75', '1.2']\n",
        "['Ground Squirrel', '101', '4']\n",
        "['Tree Shrew', '104', '2.5']\n",
        "['Golden Hamster', '120', '1']\n",
        "['Mole Rate', '122', '3']\n",
        "['Galago', '200', '5']\n",
        "['Rat', '280', '1.9']\n",
        "['Chinchilla', '425', '6.4']\n",
        "['Desert Hedgehog', '550', '2.4']\n",
        "['Rock Hyrax (a)', '750', '12.3']\n",
        "['European Hedgehog', '785', '3.5']\n",
        "['Tenrec', '900', '2.6']\n",
        "['Arctic Ground Squirrel', '920', '5.7']\n",
        "['African Giant Pouched Rat', '1000', '6.6']\n",
        "['Guinea Pig', '1040', '5.5']\n",
        "['Mountain Beaver', '1350', '8.1']\n",
        "['Slow Loris', '1400', '12.5']\n",
        "['Genet', '1410', '17.5']\n",
        "['Phalanger', '1620', '11.4']\n",
        "['North American Opossum', '1700', '6.3']\n",
        "['Tree Hyrax', '2000', '12.3']\n",
        "['Rabbit', '2500', '12.1']\n",
        "['Echidna', '3000', '25']\n",
        "['Cat', '3300', '25.6']\n",
        "['Artic Fox', '3385', '44.5']\n",
        "['Nine-banded Armadillo', '3500', '10.8']\n",
        "['Water Opossum', '3500', '3.9']\n",
        "['Rock Hyrax (b)', '3600', '21']\n",
        "['Red Fox', '4235', '50.4']\n",
        "['Raccoon', '4288', '39.2']\n",
        "['Roe Deer', '14830', '98.2']\n",
        "['Goat', '27660', '115']\n",
        "['Kangaroo', '35000', '56']\n",
        "['Gray Wolf', '36330', '119.5']\n",
        "['Sheep', '55500', '175']\n",
        "['Giant Armadillo', '60000', '81']\n",
        "['Gray Seal', '85000', '325']\n",
        "['Jaguar', '100000', '157']\n",
        "['Brazilian Tapir', '160000', '169']\n",
        "['Donkey', '187100', '419']\n",
        "['Pig', '192000', '180']\n",
        "['Protoceratops', '200000', '30']\n",
        "['Okapi', '250000', '490']\n",
        "['Camptosaurus', '400000', '46']\n",
        "['Cow', '465000', '423']\n",
        "['Horse', '521000', '655']\n",
        "['Giraffe', '529000', '680']\n",
        "['Stegosaurus', '2e+06', '56']\n",
        "['Allosaurus', '2300000', '335']\n",
        "['Asian Elephant', '2547000', '4603']\n",
        "['Anatosaurus', '3400000', '300']\n",
        "['Iguanodon', '5e+06', '250']\n",
        "['African Elephant', '6654000', '5712']\n",
        "['Tyrannosaurus', '7700000', '404']\n",
        "['Triceratops', '9400000', '140']\n",
        "['Diplodocus', '11700000', '100']\n",
        "['Blue Whale', '58059000', '6800']\n",
        "['Brachiosaurus', '8.7e+07', '309']\n"
       ]
      }
     ],
     "prompt_number": 4
    }
   ],
   "metadata": {}
  }
 ]
}